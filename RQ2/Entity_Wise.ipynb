{
 "cells": [
  {
   "cell_type": "code",
   "execution_count": 1,
   "id": "704fb82d-8375-46df-88c8-4f587da3629e",
   "metadata": {
    "metadata": {}
   },
   "outputs": [],
   "source": [
    "import pandas as pd\n",
    "import re\n",
    "from collections import Counter\n",
    "from datetime import datetime\n",
    "import calendar"
   ]
  },
  {
   "cell_type": "code",
   "execution_count": 2,
   "id": "07f9daca",
   "metadata": {
    "metadata": {}
   },
   "outputs": [],
   "source": [
    "files = ['checkyourfact.xlsx',\n",
    " 'politifact.xlsx',\n",
    " 'snopes.xlsx',\n",
    " 'altnews.xlsx',\n",
    " 'boomlive.xlsx',\n",
    " 'opindia.xlsx']"
   ]
  },
  {
   "cell_type": "code",
   "execution_count": 3,
   "id": "fe349dcf",
   "metadata": {
    "metadata": {}
   },
   "outputs": [],
   "source": [
    "def conv(s):\n",
    "    \"\"\"\n",
    "    Ofcourse GPT-3.5 is a smart model and capable enough to return the results in said format (in-most of the cases).\n",
    "    This function is trying to extract then entity-sentiment pair in a dict format.\n",
    "    \"\"\"\n",
    "    s = s[1:-1]\n",
    "    dic = {}\n",
    "\n",
    "    positions=[match.end() for match in re.finditer(r'\\b(?:positive|negative|neutral)\\b,', s, flags=re.IGNORECASE)]\n",
    "    for ss in [s[i:j] for i, j in zip([0] + positions, positions + [None])]:\n",
    "        tmp = ss.split(':')\n",
    "        try:\n",
    "            dic[tmp[0]] = tmp[1].replace(\",\", \"\")\n",
    "        except:\n",
    "            continue\n",
    "\n",
    "    return dic\n",
    "\n",
    "def prepros(df):\n",
    "    \"\"\"\n",
    "    Some basic preprocessing & mapping of string sentiment data to dict format\n",
    "    \"\"\"\n",
    "    df.sentiments = df.sentiments.str.replace('[\\n\"\\']', '', regex=True)\n",
    "    df.sentiments = df.sentiments.str.replace(r'{\\s+', '{', regex=True)\n",
    "    df.sentiments = df.sentiments.str.replace(r'\\s+}', '}', regex=True)\n",
    "    df.sentiments = df.sentiments.str.replace(r':\\s+', ':', regex=True)\n",
    "    df.sentiments = df.sentiments.str.replace(r',\\s+', ',', regex=True)\n",
    "    df.sentiments = df.sentiments.apply(conv)\n",
    "\n",
    "    return df\n",
    "\n",
    "def map_to_root(df, mapping):\n",
    "    \"\"\"\n",
    "    Returns a dict with poltical entities as keys and list of sentiments in values\n",
    "    1. Entity names is used as per the annotated mapping (Top Entity folder)\n",
    "    2. If entity isn't in top entity list then we are not including them into this dict.\n",
    "       (B/C after top-100 frequency drops significantly)\n",
    "    \"\"\"\n",
    "    top = list(mapping.index)\n",
    "    top_dic = {}\n",
    "    for dic in df.sentiments:\n",
    "        for k in dic:\n",
    "            if k in top:\n",
    "                try:\n",
    "                    top_dic[mapping.loc[k].loc['map']] += [dic[k]]\n",
    "                except:\n",
    "                    top_dic[mapping.loc[k].loc['map']] = [dic[k]]\n",
    "\n",
    "    return top_dic\n",
    "\n",
    "def sent_count(l):\n",
    "    \"\"\"\n",
    "    Given a list of sentiments eg:['positive', 'positive', 'negative', 'neutral', 'positive']]\n",
    "    Return dict with sentiment count\n",
    "    \"\"\"\n",
    "    dic = {'positive': 0, 'negative': 0, 'neutral': 0}\n",
    "    for i in l:\n",
    "        try:\n",
    "            dic[i] +=1\n",
    "        except:\n",
    "            continue\n",
    "\n",
    "    return dic\n",
    "\n",
    "def polarity_score(d):\n",
    "    \"\"\"\n",
    "    Given a sentiment count dict, it returns the polarity score (as well as maximum log error) as defined in the paper\n",
    "    If it's an empty list then PS is 0.\n",
    "    \"\"\"\n",
    "    P = d['positive']\n",
    "    N = d['negative']\n",
    "    T = sum(d.values())\n",
    "\n",
    "    try:\n",
    "        # these multiplicative number comes from human evaluation\n",
    "        return (P-N)/T, (P*0.0 + N*0.29412)/T\n",
    "    except:\n",
    "        return 0, 0"
   ]
  },
  {
   "cell_type": "code",
   "execution_count": 4,
   "id": "b5ecaa89",
   "metadata": {
    "metadata": {}
   },
   "outputs": [],
   "source": [
    "def Main(f, y):\n",
    "    \"\"\"\n",
    "    Takes org name and year as input (y = \"all\" mean take full data !)\n",
    "    And returns the top sentiment entity dict in sorted order [on basis of frequency]\n",
    "    The keys of dict represent the political entities and the values are simple sentiment count dict\n",
    "    \"\"\"\n",
    "    mapping = pd.read_excel('Top Entity/'+f)\n",
    "    mapping = mapping[mapping.include==1]\n",
    "\n",
    "    mapping.index = list(mapping.ent)\n",
    "\n",
    "    df = pd.read_excel('Entity Sentiment Data/'+f)\n",
    "\n",
    "    if(y!='all'):\n",
    "        df = df[df.date_year==y]\n",
    "\n",
    "    df = prepros(df)\n",
    "\n",
    "    top_senti_list = map_to_root(df, mapping)\n",
    "\n",
    "    for k in top_senti_list:\n",
    "        top_senti_list[k] = sent_count(top_senti_list[k])\n",
    "\n",
    "    top_senti_list = dict(sorted(top_senti_list.items(), key=lambda x: x[1]['positive'] + x[1]['negative'] + x[1]['neutral'], reverse=True))\n",
    "\n",
    "    return top_senti_list"
   ]
  },
  {
   "cell_type": "code",
   "execution_count": 5,
   "id": "be58211b",
   "metadata": {
    "metadata": {}
   },
   "outputs": [
    {
     "name": "stdout",
     "output_type": "stream",
     "text": [
      "checkyourfact.xlsx \n",
      " dict_keys(['donald trump', 'joe biden', 'democratic party', 'republican party', 'barack obama'])\n",
      "politifact.xlsx \n",
      " dict_keys(['donald trump', 'joe biden', 'democratic party', 'republican party', 'barack obama'])\n",
      "snopes.xlsx \n",
      " dict_keys(['donald trump', 'joe biden', 'democratic party', 'republican party', 'barack obama'])\n",
      "altnews.xlsx \n",
      " dict_keys(['bjp', 'narendra modi', 'congress', 'rahul gandhi', 'yogi adityanath'])\n",
      "boomlive.xlsx \n",
      " dict_keys(['bjp', 'narendra modi', 'congress', 'rahul gandhi', 'arvind kejriwal'])\n",
      "opindia.xlsx \n",
      " dict_keys(['bjp', 'congress', 'narendra modi', 'rahul gandhi', 'aap'])\n"
     ]
    }
   ],
   "source": [
    "for f in files:\n",
    "    \"\"\"\n",
    "    this loop first find the top-5 entities for diff FC orgs (2018-23)\n",
    "    then it calculate the polarity scores for these top-5 entities in year-wise manner\n",
    "    \"\"\"\n",
    "    top_senti_all = dict(list(Main(f, 'all').items())[:5]).keys()\n",
    "    print(f, \"\\n\", top_senti_all)\n",
    "    plot_data = pd.DataFrame(columns=['year']+list(top_senti_all))\n",
    "    plot_dataE = pd.DataFrame(columns=['year']+list(top_senti_all))\n",
    "    for y in ['all', 2018, 2019, 2020, 2021, 2022, 2023]:\n",
    "        for m in range(1):\n",
    "            top_senti_list = Main(f, y)\n",
    "\n",
    "            PS = {'year': y}\n",
    "            PSE = {'year': y}\n",
    "            for k in top_senti_all:\n",
    "                try:\n",
    "                    PS[k], PSE[k] = polarity_score(top_senti_list[k])\n",
    "                except:\n",
    "                    PS[k], PSE[k] = 0, 0\n",
    "\n",
    "            plot_data.loc[len(plot_data)] = PS\n",
    "            plot_dataE.loc[len(plot_data)] = PSE\n",
    "\n",
    "    # sorting the entities alphabetically\n",
    "    ent_sort = list(plot_data.columns)[1:]\n",
    "    ent_sort.sort(reverse=True)\n",
    "    plot_data = plot_data[['year']+ent_sort]\n",
    "    plot_dataE = plot_dataE[['year']+ent_sort]\n",
    "\n",
    "    # saving the PS\n",
    "    plot_data.to_excel('Graph Data/'+f, index=False)\n",
    "    plot_dataE.to_excel('Graph Data/Err_'+f, index=False)"
   ]
  }
 ],
 "metadata": {
  "kernelspec": {
   "display_name": "Python 3 (ipykernel)",
   "language": "python",
   "name": "python3"
  },
  "language_info": {
   "codemirror_mode": {
    "name": "ipython",
    "version": 3
   },
   "file_extension": ".py",
   "mimetype": "text/x-python",
   "name": "python",
   "nbconvert_exporter": "python",
   "pygments_lexer": "ipython3",
   "version": "3.10.6"
  }
 },
 "nbformat": 4,
 "nbformat_minor": 5
}
